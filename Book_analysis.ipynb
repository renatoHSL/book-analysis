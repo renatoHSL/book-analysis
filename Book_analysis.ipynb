{
 "cells": [
  {
   "cell_type": "markdown",
   "id": "8861dbca-19c4-4a59-b392-c58b25d5e43b",
   "metadata": {},
   "source": [
    "# Load the book"
   ]
  },
  {
   "cell_type": "code",
   "execution_count": 3,
   "id": "38d26b38-12d8-4b74-9923-3feb48abb1af",
   "metadata": {},
   "outputs": [],
   "source": [
    "with open(\"miracle_in_the_andes.txt\", \"r\", encoding=\"utf-8\") as file:\n",
    "    book = file.read()"
   ]
  },
  {
   "cell_type": "code",
   "execution_count": 4,
   "id": "52708330-572a-47c7-9dc7-b4e7ac95cadd",
   "metadata": {},
   "outputs": [
    {
     "data": {
      "text/plain": [
       "str"
      ]
     },
     "execution_count": 4,
     "metadata": {},
     "output_type": "execute_result"
    }
   ],
   "source": [
    "type(book)"
   ]
  },
  {
   "cell_type": "markdown",
   "id": "279961c4-02da-45bc-9b09-d502c261930c",
   "metadata": {},
   "source": [
    "# How many chapters?"
   ]
  },
  {
   "cell_type": "markdown",
   "id": "95bfd663-a7f1-46e8-b06f-46384516bc22",
   "metadata": {},
   "source": [
    "### With string methods"
   ]
  },
  {
   "cell_type": "code",
   "execution_count": 7,
   "id": "6f8c476f-2ef2-41d1-af21-82119c070ea2",
   "metadata": {},
   "outputs": [
    {
     "data": {
      "text/plain": [
       "11"
      ]
     },
     "execution_count": 7,
     "metadata": {},
     "output_type": "execute_result"
    }
   ],
   "source": [
    "book.count(\"Chapter\")"
   ]
  },
  {
   "cell_type": "markdown",
   "id": "f3155f76-50b3-4aed-a831-f815e302e3bf",
   "metadata": {},
   "source": [
    "### With regex"
   ]
  },
  {
   "cell_type": "code",
   "execution_count": 9,
   "id": "cae86bf6-a943-4761-9f33-08f044b33517",
   "metadata": {},
   "outputs": [],
   "source": [
    "import re"
   ]
  },
  {
   "cell_type": "code",
   "execution_count": 10,
   "id": "862fb5ca-0059-4674-acf4-795fe4de663d",
   "metadata": {
    "scrolled": true
   },
   "outputs": [
    {
     "data": {
      "text/plain": [
       "10"
      ]
     },
     "execution_count": 10,
     "metadata": {},
     "output_type": "execute_result"
    }
   ],
   "source": [
    "pattern = re.compile(\"Chapter [0-9]+\")\n",
    "findings = re.findall(pattern, book)\n",
    "len(findings)"
   ]
  },
  {
   "cell_type": "markdown",
   "id": "97f6598e-5681-4068-804b-ede1838a012c",
   "metadata": {},
   "source": [
    "# Which are the sentences where \"love\" was used?"
   ]
  },
  {
   "cell_type": "code",
   "execution_count": 21,
   "id": "8ec66fa7-b03a-429d-a1c6-0dabed6538df",
   "metadata": {},
   "outputs": [
    {
     "data": {
      "text/plain": [
       "[' As a young man, of course, I could not put these things into words, but I knew, and my teammates knew, that there was something special about the game, and under the guidance of the Christian Brothers we developed a passionate love for',\n",
       " ' Guido and I grew up together, playing soccer and sharing a love of',\n",
       " ' Under the guidance of the Christian Brothers, both of us grew to love the',\n",
       " ' That rowdiness came to an abrupt end for Guido in 1969, when he met and fell in love with',\n",
       " ' I believe he had a great hunger for the love and',\n",
       " ' He shared, with my father and me, a love for',\n",
       " ' The house had a beautiful view of the sea, and this more than anything made my mother love it',\n",
       " ' She was a true tower of strength, but her strength was always based in warmth and love and because of her love and',\n",
       " ' He had given us a life of comfort and privilege such as his own father never could have imagined, he had provided for us and protected us in the best way he could, and though he was not an emotionally expressive man, he always showed his love for',\n",
       " ' Out of love for',\n",
       " ' Susy shared my mother’s love for',\n",
       " ' When she was sixteen she spent a year as an exchange student living with a family in Florida, an experience that taught her to love the',\n",
       " ' As I lay beside her, the sweetness of my love for',\n",
       " ' I pressed my cheek against hers so I could feel her warm breath on my face, and held her that way all night, gently, but very close, never letting go, embracing her as if I were embracing all the love and',\n",
       " ' I felt my love for',\n",
       " '\\n\\nIn the days after Susy died, my love for',\n",
       " '\\n\\nThinking of my father this way always triggered in me a burst of love so',\n",
       " ' Bobby, are you warm enough? Do you want me to rub your feet?” She worried constantly about the children she had left at home, but still she had the courage and love to',\n",
       " ' It was our job to follow His commandments, to take the sacraments, to love God and to love others',\n",
       " ' I would think of him and let my heart fill with love for him, and this love would',\n",
       " ' After two weeks on the mountain, my love for',\n",
       " ' “All we can do is love God and love others',\n",
       " ' Even if we are trapped here forever, we can love our',\n",
       " '\\n\\n“You will tell my family that I love them',\n",
       " ' But he lived so many lifetimes, had so many adventures, and, macho, he made love to',\n",
       " ' The shoes were magical for me because my mother had chosen them with such love for',\n",
       " ' My love for',\n",
       " ' Only love can',\n",
       " ' I would walk through the godforsaken country that separated me from my home with love and',\n",
       " ' But still, still, I longed for the very things I knew I would never have—the love of',\n",
       " ' My ordeal had simplified my mind and whittled me down very close to the essence of what I was, and now I saw that this longing, this love and',\n",
       " ' In seconds she was in my arms, and my heart swelled with love as',\n",
       " '”\\n\\nThere was so much I wanted to tell him, that I had thought of him every moment, that his love had',\n",
       " ' Where should I begin? “I love it',\n",
       " ' She stepped off the train with only a backpack and a small duffel, looking very beautiful, and I fell in love with',\n",
       " ' Until then, I had thought I could never love anything as much as I loved my wife, but when I gazed into my baby’s face, I was struck senseless by my love for',\n",
       " ' I felt a sudden, staggering sense of gratitude for the rich joys of my life—I had been given so much love and',\n",
       " ' He was never an openly affectionate man, but I never doubted his love when',\n",
       " ' When I was in the mountains, stranded in the shadows of death, that love was',\n",
       " ' As long as I held on to that love, I was not lost, I was connected to my home and to my future, and in the end it was that strong cord of love that',\n",
       " ' There was love, the love in my heart, and for one incredible moment, as I felt this love swell',\n",
       " ' I love to',\n",
       " ' I believe life should be enjoyed, but my experiences have taught me that without the love of',\n",
       " ' I savor them and let each one become a miniature eternity, and by living these small moments of my life so fully, I defy the shadow of death that hovers over all of us, I reaffirm my love and',\n",
       " ' I open myself to it, I try to direct that tide of love toward',\n",
       " ' In the mountains, it was love that',\n",
       " ' I had no expertise to draw on, so I relied upon the trust I felt in my love for',\n",
       " ' Now I am convinced that if there is something divine in the universe, the only way I will find it is through the love I',\n",
       " ' I have tried to love my']"
      ]
     },
     "execution_count": 21,
     "metadata": {},
     "output_type": "execute_result"
    }
   ],
   "source": [
    "pattern = re.compile(\"[^.]* love [a-zA-Z]*\")\n",
    "findings = re.findall(pattern, book)\n",
    "findings"
   ]
  }
 ],
 "metadata": {
  "kernelspec": {
   "display_name": "Python 3 (ipykernel)",
   "language": "python",
   "name": "python3"
  },
  "language_info": {
   "codemirror_mode": {
    "name": "ipython",
    "version": 3
   },
   "file_extension": ".py",
   "mimetype": "text/x-python",
   "name": "python",
   "nbconvert_exporter": "python",
   "pygments_lexer": "ipython3",
   "version": "3.11.7"
  }
 },
 "nbformat": 4,
 "nbformat_minor": 5
}
